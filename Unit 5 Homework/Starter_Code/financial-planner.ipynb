{
 "cells": [
  {
   "cell_type": "markdown",
   "metadata": {},
   "source": [
    "# Unit 5 - Financial Planning"
   ]
  },
  {
   "cell_type": "code",
   "execution_count": 1,
   "metadata": {},
   "outputs": [],
   "source": [
    "# Initial imports\n",
    "import os\n",
    "import requests\n",
    "import pandas as pd\n",
    "from dotenv import load_dotenv\n",
    "import alpaca_trade_api as tradeapi\n",
    "from MCForecastTools import MCSimulation\n",
    "\n",
    "%matplotlib inline"
   ]
  },
  {
   "cell_type": "code",
   "execution_count": 2,
   "metadata": {},
   "outputs": [
    {
     "data": {
      "text/plain": [
       "True"
      ]
     },
     "execution_count": 2,
     "metadata": {},
     "output_type": "execute_result"
    }
   ],
   "source": [
    "# Load .env enviroment variables\n",
    "load_dotenv()"
   ]
  },
  {
   "cell_type": "markdown",
   "metadata": {},
   "source": [
    "## Part 1 - Personal Finance Planner"
   ]
  },
  {
   "cell_type": "markdown",
   "metadata": {},
   "source": [
    "### Collect Crypto Prices Using the `requests` Library"
   ]
  },
  {
   "cell_type": "code",
   "execution_count": 3,
   "metadata": {},
   "outputs": [],
   "source": [
    "# Set current amount of crypto assets\n",
    "my_btc=1.2\n",
    "my_eth=5.3"
   ]
  },
  {
   "cell_type": "code",
   "execution_count": 4,
   "metadata": {},
   "outputs": [],
   "source": [
    "# Crypto API URLs\n",
    "btc_url = \"https://api.alternative.me/v2/ticker/Bitcoin/?convert=CAD\"\n",
    "eth_url = \"https://api.alternative.me/v2/ticker/Ethereum/?convert=CAD\""
   ]
  },
  {
   "cell_type": "code",
   "execution_count": 5,
   "metadata": {},
   "outputs": [
    {
     "name": "stdout",
     "output_type": "stream",
     "text": [
      "The current value of your 1.2 BTC is $74799.63\n",
      "The current value of your 5.3 ETH is $27142.93\n"
     ]
    }
   ],
   "source": [
    "# Fetch current BTC price\n",
    "btc_response=requests.get(btc_url).json()\n",
    "btc_price= btc_response[\"data\"][\"1\"][\"quotes\"][\"CAD\"][\"price\"]\n",
    "\n",
    "# Fetch current ETH price\n",
    "eth_response=requests.get(eth_url).json()\n",
    "eth_price = eth_response[\"data\"][\"1027\"][\"quotes\"][\"CAD\"][\"price\"]\n",
    " \n",
    "# Compute current value of my crpto\n",
    "# YOUR CODE HERE!\n",
    "my_btc_value=my_btc * btc_price\n",
    "my_eth_value=my_eth * eth_price\n",
    "\n",
    "# Print current crypto wallet balance\n",
    "print(f\"The current value of your {my_btc} BTC is ${my_btc_value:0.2f}\")\n",
    "print(f\"The current value of your {my_eth} ETH is ${my_eth_value:0.2f}\")"
   ]
  },
  {
   "cell_type": "markdown",
   "metadata": {},
   "source": [
    "### Collect Investments Data Using Alpaca: `SPY` (stocks) and `AGG` (bonds)"
   ]
  },
  {
   "cell_type": "code",
   "execution_count": 6,
   "metadata": {},
   "outputs": [],
   "source": [
    "# Set current amount of shares\n",
    "my_agg = 200\n",
    "my_spy = 50\n"
   ]
  },
  {
   "cell_type": "code",
   "execution_count": 7,
   "metadata": {},
   "outputs": [
    {
     "name": "stdout",
     "output_type": "stream",
     "text": [
      "Alpaca Key type: <class 'str'>\n",
      "Alpaca Secret Key type: <class 'str'>\n"
     ]
    }
   ],
   "source": [
    "# Set Alpaca API key and secret\n",
    "# Create the Alpaca API object\n",
    "alpaca_api_key = os.getenv(\"ALPACA_API_KEY\")\n",
    "alpaca_secret_key = os.getenv(\"ALPACA_SECRET_KEY\")\n",
    "\n",
    "alpaca = tradeapi.REST(\n",
    "    alpaca_api_key,\n",
    "    alpaca_secret_key,\n",
    "    api_version = \"v2\"\n",
    ")\n",
    "print(f\"Alpaca Key type: {type(alpaca_api_key)}\")\n",
    "print(f\"Alpaca Secret Key type: {type(alpaca_secret_key)}\")"
   ]
  },
  {
   "cell_type": "code",
   "execution_count": 8,
   "metadata": {},
   "outputs": [
    {
     "data": {
      "text/html": [
       "<div>\n",
       "<style scoped>\n",
       "    .dataframe tbody tr th:only-of-type {\n",
       "        vertical-align: middle;\n",
       "    }\n",
       "\n",
       "    .dataframe tbody tr th {\n",
       "        vertical-align: top;\n",
       "    }\n",
       "\n",
       "    .dataframe thead tr th {\n",
       "        text-align: left;\n",
       "    }\n",
       "\n",
       "    .dataframe thead tr:last-of-type th {\n",
       "        text-align: right;\n",
       "    }\n",
       "</style>\n",
       "<table border=\"1\" class=\"dataframe\">\n",
       "  <thead>\n",
       "    <tr>\n",
       "      <th></th>\n",
       "      <th colspan=\"5\" halign=\"left\">AGG</th>\n",
       "      <th colspan=\"5\" halign=\"left\">SPY</th>\n",
       "    </tr>\n",
       "    <tr>\n",
       "      <th></th>\n",
       "      <th>open</th>\n",
       "      <th>high</th>\n",
       "      <th>low</th>\n",
       "      <th>close</th>\n",
       "      <th>volume</th>\n",
       "      <th>open</th>\n",
       "      <th>high</th>\n",
       "      <th>low</th>\n",
       "      <th>close</th>\n",
       "      <th>volume</th>\n",
       "    </tr>\n",
       "    <tr>\n",
       "      <th>time</th>\n",
       "      <th></th>\n",
       "      <th></th>\n",
       "      <th></th>\n",
       "      <th></th>\n",
       "      <th></th>\n",
       "      <th></th>\n",
       "      <th></th>\n",
       "      <th></th>\n",
       "      <th></th>\n",
       "      <th></th>\n",
       "    </tr>\n",
       "  </thead>\n",
       "  <tbody>\n",
       "    <tr>\n",
       "      <th>2017-12-21 00:00:00-05:00</th>\n",
       "      <td>108.76</td>\n",
       "      <td>108.8700</td>\n",
       "      <td>108.7300</td>\n",
       "      <td>108.830</td>\n",
       "      <td>2173058.0</td>\n",
       "      <td>267.73</td>\n",
       "      <td>268.385</td>\n",
       "      <td>267.300</td>\n",
       "      <td>267.57</td>\n",
       "      <td>34999954.0</td>\n",
       "    </tr>\n",
       "    <tr>\n",
       "      <th>2017-12-22 00:00:00-05:00</th>\n",
       "      <td>108.82</td>\n",
       "      <td>108.8900</td>\n",
       "      <td>108.8100</td>\n",
       "      <td>108.880</td>\n",
       "      <td>2952430.0</td>\n",
       "      <td>267.60</td>\n",
       "      <td>267.635</td>\n",
       "      <td>266.900</td>\n",
       "      <td>267.48</td>\n",
       "      <td>36604044.0</td>\n",
       "    </tr>\n",
       "    <tr>\n",
       "      <th>2017-12-26 00:00:00-05:00</th>\n",
       "      <td>108.91</td>\n",
       "      <td>109.0100</td>\n",
       "      <td>108.8700</td>\n",
       "      <td>108.960</td>\n",
       "      <td>1717408.0</td>\n",
       "      <td>267.06</td>\n",
       "      <td>267.390</td>\n",
       "      <td>266.885</td>\n",
       "      <td>267.17</td>\n",
       "      <td>24888478.0</td>\n",
       "    </tr>\n",
       "    <tr>\n",
       "      <th>2017-12-27 00:00:00-05:00</th>\n",
       "      <td>109.02</td>\n",
       "      <td>109.3250</td>\n",
       "      <td>109.0200</td>\n",
       "      <td>109.285</td>\n",
       "      <td>1863189.0</td>\n",
       "      <td>267.36</td>\n",
       "      <td>267.730</td>\n",
       "      <td>267.010</td>\n",
       "      <td>267.33</td>\n",
       "      <td>32573906.0</td>\n",
       "    </tr>\n",
       "    <tr>\n",
       "      <th>2017-12-28 00:00:00-05:00</th>\n",
       "      <td>109.22</td>\n",
       "      <td>109.2599</td>\n",
       "      <td>109.1435</td>\n",
       "      <td>109.220</td>\n",
       "      <td>2490982.0</td>\n",
       "      <td>267.85</td>\n",
       "      <td>267.920</td>\n",
       "      <td>267.450</td>\n",
       "      <td>267.86</td>\n",
       "      <td>23583584.0</td>\n",
       "    </tr>\n",
       "  </tbody>\n",
       "</table>\n",
       "</div>"
      ],
      "text/plain": [
       "                              AGG                                          \\\n",
       "                             open      high       low    close     volume   \n",
       "time                                                                        \n",
       "2017-12-21 00:00:00-05:00  108.76  108.8700  108.7300  108.830  2173058.0   \n",
       "2017-12-22 00:00:00-05:00  108.82  108.8900  108.8100  108.880  2952430.0   \n",
       "2017-12-26 00:00:00-05:00  108.91  109.0100  108.8700  108.960  1717408.0   \n",
       "2017-12-27 00:00:00-05:00  109.02  109.3250  109.0200  109.285  1863189.0   \n",
       "2017-12-28 00:00:00-05:00  109.22  109.2599  109.1435  109.220  2490982.0   \n",
       "\n",
       "                              SPY                                        \n",
       "                             open     high      low   close      volume  \n",
       "time                                                                     \n",
       "2017-12-21 00:00:00-05:00  267.73  268.385  267.300  267.57  34999954.0  \n",
       "2017-12-22 00:00:00-05:00  267.60  267.635  266.900  267.48  36604044.0  \n",
       "2017-12-26 00:00:00-05:00  267.06  267.390  266.885  267.17  24888478.0  \n",
       "2017-12-27 00:00:00-05:00  267.36  267.730  267.010  267.33  32573906.0  \n",
       "2017-12-28 00:00:00-05:00  267.85  267.920  267.450  267.86  23583584.0  "
      ]
     },
     "execution_count": 8,
     "metadata": {},
     "output_type": "execute_result"
    }
   ],
   "source": [
    "# Format current date as ISO format\n",
    "\n",
    "#today = pd.Timestamp(\"2021-12-11\", tz=\"America/New_York\").isoformat()\n",
    "start_date = pd.Timestamp(\"2017-12-11\", tz=\"America/New_York\").isoformat()\n",
    "end_date = pd.Timestamp(\"2021-12-11\", tz=\"America/New_York\").isoformat()\n",
    "\n",
    "# Set the tickers\n",
    "tickers = [\"AGG\", \"SPY\"]\n",
    "\n",
    "# Set timeframe to '1D' for Alpaca API\n",
    "timeframe = \"1D\"\n",
    "\n",
    "# Get current closing prices for SPY and AGG\n",
    "# (use a limit=1000 parameter to call the most recent 1000 days of data)\n",
    "df_portfolio = alpaca.get_barset(\n",
    "    tickers,\n",
    "    timeframe,\n",
    "    start = start_date,\n",
    "    end = end_date,\n",
    "    limit=1000\n",
    ").df\n",
    "\n",
    "\n",
    "\n",
    "\n",
    "\n",
    "# Preview DataFrame\n",
    "df_portfolio.dropna(inplace=True)\n",
    "df_portfolio.head()"
   ]
  },
  {
   "cell_type": "code",
   "execution_count": 9,
   "metadata": {},
   "outputs": [
    {
     "name": "stdout",
     "output_type": "stream",
     "text": [
      "Current AGG closing price: $108.83\n",
      "Current SPY closing price: $267.57\n"
     ]
    }
   ],
   "source": [
    "# Pick AGG and SPY close prices\n",
    "agg_close_price=(df_portfolio[\"AGG\"][\"close\"][0])\n",
    "spy_close_price=(df_portfolio[\"SPY\"][\"close\"][0])\n",
    "# Print AGG and SPY close prices\n",
    "print(f\"Current AGG closing price: ${agg_close_price}\")\n",
    "print(f\"Current SPY closing price: ${spy_close_price}\")"
   ]
  },
  {
   "cell_type": "code",
   "execution_count": 10,
   "metadata": {},
   "outputs": [
    {
     "name": "stdout",
     "output_type": "stream",
     "text": [
      "The current value of your 50 SPY shares is $13378.50\n",
      "The current value of your 200 AGG shares is $21766.00\n"
     ]
    }
   ],
   "source": [
    "# Compute the current value of shares\n",
    "my_agg_value=agg_close_price* my_agg\n",
    "my_spy_value=spy_close_price * my_spy\n",
    "\n",
    "# Print current value of shares\n",
    "print(f\"The current value of your {my_spy} SPY shares is ${my_spy_value:0.2f}\")\n",
    "print(f\"The current value of your {my_agg} AGG shares is ${my_agg_value:0.2f}\")"
   ]
  },
  {
   "cell_type": "markdown",
   "metadata": {},
   "source": [
    "### Savings Health Analysis"
   ]
  },
  {
   "cell_type": "code",
   "execution_count": 11,
   "metadata": {},
   "outputs": [
    {
     "data": {
      "text/html": [
       "<div>\n",
       "<style scoped>\n",
       "    .dataframe tbody tr th:only-of-type {\n",
       "        vertical-align: middle;\n",
       "    }\n",
       "\n",
       "    .dataframe tbody tr th {\n",
       "        vertical-align: top;\n",
       "    }\n",
       "\n",
       "    .dataframe thead th {\n",
       "        text-align: right;\n",
       "    }\n",
       "</style>\n",
       "<table border=\"1\" class=\"dataframe\">\n",
       "  <thead>\n",
       "    <tr style=\"text-align: right;\">\n",
       "      <th></th>\n",
       "      <th>amount</th>\n",
       "    </tr>\n",
       "  </thead>\n",
       "  <tbody>\n",
       "    <tr>\n",
       "      <th>crypto</th>\n",
       "      <td>101942.558561</td>\n",
       "    </tr>\n",
       "    <tr>\n",
       "      <th>shares</th>\n",
       "      <td>35144.500000</td>\n",
       "    </tr>\n",
       "  </tbody>\n",
       "</table>\n",
       "</div>"
      ],
      "text/plain": [
       "               amount\n",
       "crypto  101942.558561\n",
       "shares   35144.500000"
      ]
     },
     "metadata": {},
     "output_type": "display_data"
    }
   ],
   "source": [
    "# Set monthly household income\n",
    "monthly_income = 12000\n",
    "\n",
    "# Consolidate financial assets data\n",
    "savings_data = [\n",
    "    my_btc_value + my_eth_value,\n",
    "    my_spy_value + my_agg_value,\n",
    "]\n",
    "# Create savings DataFrame\n",
    "df_savings = pd.DataFrame(savings_data, columns=[\"amount\"], index=[\"crypto\", \"shares\"])\n",
    "# Display savings DataFrame\n",
    "display(df_savings)"
   ]
  },
  {
   "cell_type": "code",
   "execution_count": 12,
   "metadata": {},
   "outputs": [
    {
     "data": {
      "text/plain": [
       "<AxesSubplot:title={'center':'personal saving composition'}, ylabel='amount'>"
      ]
     },
     "execution_count": 12,
     "metadata": {},
     "output_type": "execute_result"
    },
    {
     "data": {
      "image/png": "[encoded data removed]",
      "text/plain": [
       "<Figure size 432x288 with 1 Axes>"
      ]
     },
     "metadata": {},
     "output_type": "display_data"
    }
   ],
   "source": [
    "# Plot savings pie chart\n",
    "df_savings.plot.pie(y=\"amount\",title= \"personal saving composition\" )"
   ]
  },
  {
   "cell_type": "code",
   "execution_count": 13,
   "metadata": {},
   "outputs": [],
   "source": [
    "# Set ideal emergency fund\n",
    "emergency_fund = monthly_income * 3\n",
    "\n",
    "# Calculate total amount of savings\n",
    "total_savings = float(df_savings.sum())\n",
    "differnce= total_savings-emergency_fund"
   ]
  },
  {
   "cell_type": "code",
   "execution_count": 14,
   "metadata": {},
   "outputs": [
    {
     "name": "stdout",
     "output_type": "stream",
     "text": [
      "Congratulations! You have enough money in your emergency fund.\n"
     ]
    }
   ],
   "source": [
    "# Validate saving health\n",
    "if total_savings > emergency_fund:\n",
    "    print (\"Congratulations! You have enough money in your emergency fund.\")  \n",
    "elif total_savings == emergency_fund:\n",
    "    print (\"Congratulations!You have  reached your financial goal\")\n",
    "else:\n",
    "    print(f\"Based on your data , you are ${differnce:0.2f} away from reaching your goal\")\n"
   ]
  },
  {
   "cell_type": "markdown",
   "metadata": {},
   "source": [
    "## Part 2 - Retirement Planning\n",
    "\n",
    "### Monte Carlo Simulation"
   ]
  },
  {
   "cell_type": "code",
   "execution_count": 15,
   "metadata": {},
   "outputs": [],
   "source": [
    "# Set start and end dates of five years back from today.\n",
    "# Sample results may vary from the solution based on the time frame chosen\n",
    "start_date = pd.Timestamp('2016-12-11', tz='America/New_York').isoformat()\n",
    "end_date = pd.Timestamp('2021-12-11', tz='America/New_York').isoformat()"
   ]
  },
  {
   "cell_type": "code",
   "execution_count": 17,
   "metadata": {},
   "outputs": [
    {
     "data": {
      "text/html": [
       "<div>\n",
       "<style scoped>\n",
       "    .dataframe tbody tr th:only-of-type {\n",
       "        vertical-align: middle;\n",
       "    }\n",
       "\n",
       "    .dataframe tbody tr th {\n",
       "        vertical-align: top;\n",
       "    }\n",
       "\n",
       "    .dataframe thead tr th {\n",
       "        text-align: left;\n",
       "    }\n",
       "\n",
       "    .dataframe thead tr:last-of-type th {\n",
       "        text-align: right;\n",
       "    }\n",
       "</style>\n",
       "<table border=\"1\" class=\"dataframe\">\n",
       "  <thead>\n",
       "    <tr>\n",
       "      <th></th>\n",
       "      <th colspan=\"5\" halign=\"left\">AGG</th>\n",
       "      <th colspan=\"5\" halign=\"left\">SPY</th>\n",
       "    </tr>\n",
       "    <tr>\n",
       "      <th></th>\n",
       "      <th>open</th>\n",
       "      <th>high</th>\n",
       "      <th>low</th>\n",
       "      <th>close</th>\n",
       "      <th>volume</th>\n",
       "      <th>open</th>\n",
       "      <th>high</th>\n",
       "      <th>low</th>\n",
       "      <th>close</th>\n",
       "      <th>volume</th>\n",
       "    </tr>\n",
       "    <tr>\n",
       "      <th>time</th>\n",
       "      <th></th>\n",
       "      <th></th>\n",
       "      <th></th>\n",
       "      <th></th>\n",
       "      <th></th>\n",
       "      <th></th>\n",
       "      <th></th>\n",
       "      <th></th>\n",
       "      <th></th>\n",
       "      <th></th>\n",
       "    </tr>\n",
       "  </thead>\n",
       "  <tbody>\n",
       "    <tr>\n",
       "      <th>2017-12-20 00:00:00-05:00</th>\n",
       "      <td>108.75</td>\n",
       "      <td>108.880</td>\n",
       "      <td>108.7059</td>\n",
       "      <td>108.770</td>\n",
       "      <td>3123756.0</td>\n",
       "      <td>NaN</td>\n",
       "      <td>NaN</td>\n",
       "      <td>NaN</td>\n",
       "      <td>NaN</td>\n",
       "      <td>NaN</td>\n",
       "    </tr>\n",
       "    <tr>\n",
       "      <th>2017-12-21 00:00:00-05:00</th>\n",
       "      <td>108.76</td>\n",
       "      <td>108.870</td>\n",
       "      <td>108.7300</td>\n",
       "      <td>108.830</td>\n",
       "      <td>2173058.0</td>\n",
       "      <td>267.73</td>\n",
       "      <td>268.385</td>\n",
       "      <td>267.300</td>\n",
       "      <td>267.57</td>\n",
       "      <td>34999954.0</td>\n",
       "    </tr>\n",
       "    <tr>\n",
       "      <th>2017-12-22 00:00:00-05:00</th>\n",
       "      <td>108.82</td>\n",
       "      <td>108.890</td>\n",
       "      <td>108.8100</td>\n",
       "      <td>108.880</td>\n",
       "      <td>2952430.0</td>\n",
       "      <td>267.60</td>\n",
       "      <td>267.635</td>\n",
       "      <td>266.900</td>\n",
       "      <td>267.48</td>\n",
       "      <td>36604044.0</td>\n",
       "    </tr>\n",
       "    <tr>\n",
       "      <th>2017-12-26 00:00:00-05:00</th>\n",
       "      <td>108.91</td>\n",
       "      <td>109.010</td>\n",
       "      <td>108.8700</td>\n",
       "      <td>108.960</td>\n",
       "      <td>1717408.0</td>\n",
       "      <td>267.06</td>\n",
       "      <td>267.390</td>\n",
       "      <td>266.885</td>\n",
       "      <td>267.17</td>\n",
       "      <td>24888478.0</td>\n",
       "    </tr>\n",
       "    <tr>\n",
       "      <th>2017-12-27 00:00:00-05:00</th>\n",
       "      <td>109.02</td>\n",
       "      <td>109.325</td>\n",
       "      <td>109.0200</td>\n",
       "      <td>109.285</td>\n",
       "      <td>1863189.0</td>\n",
       "      <td>267.36</td>\n",
       "      <td>267.730</td>\n",
       "      <td>267.010</td>\n",
       "      <td>267.33</td>\n",
       "      <td>32573906.0</td>\n",
       "    </tr>\n",
       "  </tbody>\n",
       "</table>\n",
       "</div>"
      ],
      "text/plain": [
       "                              AGG                                         \\\n",
       "                             open     high       low    close     volume   \n",
       "time                                                                       \n",
       "2017-12-20 00:00:00-05:00  108.75  108.880  108.7059  108.770  3123756.0   \n",
       "2017-12-21 00:00:00-05:00  108.76  108.870  108.7300  108.830  2173058.0   \n",
       "2017-12-22 00:00:00-05:00  108.82  108.890  108.8100  108.880  2952430.0   \n",
       "2017-12-26 00:00:00-05:00  108.91  109.010  108.8700  108.960  1717408.0   \n",
       "2017-12-27 00:00:00-05:00  109.02  109.325  109.0200  109.285  1863189.0   \n",
       "\n",
       "                              SPY                                        \n",
       "                             open     high      low   close      volume  \n",
       "time                                                                     \n",
       "2017-12-20 00:00:00-05:00     NaN      NaN      NaN     NaN         NaN  \n",
       "2017-12-21 00:00:00-05:00  267.73  268.385  267.300  267.57  34999954.0  \n",
       "2017-12-22 00:00:00-05:00  267.60  267.635  266.900  267.48  36604044.0  \n",
       "2017-12-26 00:00:00-05:00  267.06  267.390  266.885  267.17  24888478.0  \n",
       "2017-12-27 00:00:00-05:00  267.36  267.730  267.010  267.33  32573906.0  "
      ]
     },
     "execution_count": 17,
     "metadata": {},
     "output_type": "execute_result"
    }
   ],
   "source": [
    "# Get 5 years' worth of historical data for SPY and AGG\n",
    "# (use a limit=1000 parameter to call the most recent 1000 days of data)\n",
    "ticker= [\"AGG\",\"SPY\"]\n",
    "\n",
    "df_stock_data= alpaca.get_barset(\n",
    "    ticker,\n",
    "    timeframe,\n",
    "    start=start_date,\n",
    "    end=end_date,\n",
    "    limit=1000,\n",
    ").df\n",
    "\n",
    "\n",
    "\n",
    "\n",
    "# Display sample data\n",
    "df_stock_data.head()"
   ]
  },
  {
   "cell_type": "code",
   "execution_count": 18,
   "metadata": {},
   "outputs": [],
   "source": [
    "# Configuring a Monte Carlo simulation to forecast 30 years cumulative returns\n",
    "MC_30year= MCSimulation(\n",
    "    portfolio_data = df_stock_data,\n",
    "     weights = [.40,.60],\n",
    "    num_simulation = 500,\n",
    "    num_trading_days = 252*30\n",
    ")\n"
   ]
  },
  {
   "cell_type": "code",
   "execution_count": 19,
   "metadata": {},
   "outputs": [
    {
     "data": {
      "text/html": [
       "<div>\n",
       "<style scoped>\n",
       "    .dataframe tbody tr th:only-of-type {\n",
       "        vertical-align: middle;\n",
       "    }\n",
       "\n",
       "    .dataframe tbody tr th {\n",
       "        vertical-align: top;\n",
       "    }\n",
       "\n",
       "    .dataframe thead tr th {\n",
       "        text-align: left;\n",
       "    }\n",
       "\n",
       "    .dataframe thead tr:last-of-type th {\n",
       "        text-align: right;\n",
       "    }\n",
       "</style>\n",
       "<table border=\"1\" class=\"dataframe\">\n",
       "  <thead>\n",
       "    <tr>\n",
       "      <th></th>\n",
       "      <th colspan=\"6\" halign=\"left\">AGG</th>\n",
       "      <th colspan=\"6\" halign=\"left\">SPY</th>\n",
       "    </tr>\n",
       "    <tr>\n",
       "      <th></th>\n",
       "      <th>open</th>\n",
       "      <th>high</th>\n",
       "      <th>low</th>\n",
       "      <th>close</th>\n",
       "      <th>volume</th>\n",
       "      <th>daily_return</th>\n",
       "      <th>open</th>\n",
       "      <th>high</th>\n",
       "      <th>low</th>\n",
       "      <th>close</th>\n",
       "      <th>volume</th>\n",
       "      <th>daily_return</th>\n",
       "    </tr>\n",
       "    <tr>\n",
       "      <th>time</th>\n",
       "      <th></th>\n",
       "      <th></th>\n",
       "      <th></th>\n",
       "      <th></th>\n",
       "      <th></th>\n",
       "      <th></th>\n",
       "      <th></th>\n",
       "      <th></th>\n",
       "      <th></th>\n",
       "      <th></th>\n",
       "      <th></th>\n",
       "      <th></th>\n",
       "    </tr>\n",
       "  </thead>\n",
       "  <tbody>\n",
       "    <tr>\n",
       "      <th>2017-12-22 00:00:00-05:00</th>\n",
       "      <td>108.82</td>\n",
       "      <td>108.890</td>\n",
       "      <td>108.81</td>\n",
       "      <td>108.880</td>\n",
       "      <td>2952430.0</td>\n",
       "      <td>0.000459</td>\n",
       "      <td>267.60</td>\n",
       "      <td>267.635</td>\n",
       "      <td>266.900</td>\n",
       "      <td>267.48</td>\n",
       "      <td>36604044.0</td>\n",
       "      <td>-0.000336</td>\n",
       "    </tr>\n",
       "    <tr>\n",
       "      <th>2017-12-26 00:00:00-05:00</th>\n",
       "      <td>108.91</td>\n",
       "      <td>109.010</td>\n",
       "      <td>108.87</td>\n",
       "      <td>108.960</td>\n",
       "      <td>1717408.0</td>\n",
       "      <td>0.000735</td>\n",
       "      <td>267.06</td>\n",
       "      <td>267.390</td>\n",
       "      <td>266.885</td>\n",
       "      <td>267.17</td>\n",
       "      <td>24888478.0</td>\n",
       "      <td>-0.001159</td>\n",
       "    </tr>\n",
       "    <tr>\n",
       "      <th>2017-12-27 00:00:00-05:00</th>\n",
       "      <td>109.02</td>\n",
       "      <td>109.325</td>\n",
       "      <td>109.02</td>\n",
       "      <td>109.285</td>\n",
       "      <td>1863189.0</td>\n",
       "      <td>0.002983</td>\n",
       "      <td>267.36</td>\n",
       "      <td>267.730</td>\n",
       "      <td>267.010</td>\n",
       "      <td>267.33</td>\n",
       "      <td>32573906.0</td>\n",
       "      <td>0.000599</td>\n",
       "    </tr>\n",
       "  </tbody>\n",
       "</table>\n",
       "</div>"
      ],
      "text/plain": [
       "                              AGG                                       \\\n",
       "                             open     high     low    close     volume   \n",
       "time                                                                     \n",
       "2017-12-22 00:00:00-05:00  108.82  108.890  108.81  108.880  2952430.0   \n",
       "2017-12-26 00:00:00-05:00  108.91  109.010  108.87  108.960  1717408.0   \n",
       "2017-12-27 00:00:00-05:00  109.02  109.325  109.02  109.285  1863189.0   \n",
       "\n",
       "                                           SPY                            \\\n",
       "                          daily_return    open     high      low   close   \n",
       "time                                                                       \n",
       "2017-12-22 00:00:00-05:00     0.000459  267.60  267.635  266.900  267.48   \n",
       "2017-12-26 00:00:00-05:00     0.000735  267.06  267.390  266.885  267.17   \n",
       "2017-12-27 00:00:00-05:00     0.002983  267.36  267.730  267.010  267.33   \n",
       "\n",
       "                                                    \n",
       "                               volume daily_return  \n",
       "time                                                \n",
       "2017-12-22 00:00:00-05:00  36604044.0    -0.000336  \n",
       "2017-12-26 00:00:00-05:00  24888478.0    -0.001159  \n",
       "2017-12-27 00:00:00-05:00  32573906.0     0.000599  "
      ]
     },
     "execution_count": 19,
     "metadata": {},
     "output_type": "execute_result"
    }
   ],
   "source": [
    "# Printing the simulation input data\n",
    "MC_30year.portfolio_data.head().dropna()"
   ]
  },
  {
   "cell_type": "code",
   "execution_count": 20,
   "metadata": {},
   "outputs": [
    {
     "name": "stdout",
     "output_type": "stream",
     "text": [
      "Running Monte Carlo simulation number 0.\n",
      "Running Monte Carlo simulation number 10.\n",
      "Running Monte Carlo simulation number 20.\n",
      "Running Monte Carlo simulation number 30.\n",
      "Running Monte Carlo simulation number 40.\n",
      "Running Monte Carlo simulation number 50.\n",
      "Running Monte Carlo simulation number 60.\n",
      "Running Monte Carlo simulation number 70.\n",
      "Running Monte Carlo simulation number 80.\n",
      "Running Monte Carlo simulation number 90.\n",
      "Running Monte Carlo simulation number 100.\n"
     ]
    },
    {
     "name": "stderr",
     "output_type": "stream",
     "text": [
      "C:\\Users\\Admin\\Desktop\\Homework-unit-5\\Unit 5 Homework\\Starter_Code\\MCForecastTools.py:117: PerformanceWarning: DataFrame is highly fragmented.  This is usually the result of calling `frame.insert` many times, which has poor performance.  Consider joining all columns at once using pd.concat(axis=1) instead.  To get a de-fragmented frame, use `newframe = frame.copy()`\n",
      "  portfolio_cumulative_returns[n] = (1 + sim_df.fillna(0)).cumprod()\n"
     ]
    },
    {
     "name": "stdout",
     "output_type": "stream",
     "text": [
      "Running Monte Carlo simulation number 110.\n",
      "Running Monte Carlo simulation number 120.\n",
      "Running Monte Carlo simulation number 130.\n",
      "Running Monte Carlo simulation number 140.\n",
      "Running Monte Carlo simulation number 150.\n",
      "Running Monte Carlo simulation number 160.\n",
      "Running Monte Carlo simulation number 170.\n",
      "Running Monte Carlo simulation number 180.\n",
      "Running Monte Carlo simulation number 190.\n",
      "Running Monte Carlo simulation number 200.\n",
      "Running Monte Carlo simulation number 210.\n",
      "Running Monte Carlo simulation number 220.\n",
      "Running Monte Carlo simulation number 230.\n",
      "Running Monte Carlo simulation number 240.\n",
      "Running Monte Carlo simulation number 250.\n",
      "Running Monte Carlo simulation number 260.\n",
      "Running Monte Carlo simulation number 270.\n",
      "Running Monte Carlo simulation number 280.\n",
      "Running Monte Carlo simulation number 290.\n",
      "Running Monte Carlo simulation number 300.\n",
      "Running Monte Carlo simulation number 310.\n",
      "Running Monte Carlo simulation number 320.\n",
      "Running Monte Carlo simulation number 330.\n",
      "Running Monte Carlo simulation number 340.\n",
      "Running Monte Carlo simulation number 350.\n",
      "Running Monte Carlo simulation number 360.\n",
      "Running Monte Carlo simulation number 370.\n",
      "Running Monte Carlo simulation number 380.\n",
      "Running Monte Carlo simulation number 390.\n",
      "Running Monte Carlo simulation number 400.\n",
      "Running Monte Carlo simulation number 410.\n",
      "Running Monte Carlo simulation number 420.\n",
      "Running Monte Carlo simulation number 430.\n",
      "Running Monte Carlo simulation number 440.\n",
      "Running Monte Carlo simulation number 450.\n",
      "Running Monte Carlo simulation number 460.\n",
      "Running Monte Carlo simulation number 470.\n",
      "Running Monte Carlo simulation number 480.\n",
      "Running Monte Carlo simulation number 490.\n"
     ]
    },
    {
     "data": {
      "text/html": [
       "<div>\n",
       "<style scoped>\n",
       "    .dataframe tbody tr th:only-of-type {\n",
       "        vertical-align: middle;\n",
       "    }\n",
       "\n",
       "    .dataframe tbody tr th {\n",
       "        vertical-align: top;\n",
       "    }\n",
       "\n",
       "    .dataframe thead th {\n",
       "        text-align: right;\n",
       "    }\n",
       "</style>\n",
       "<table border=\"1\" class=\"dataframe\">\n",
       "  <thead>\n",
       "    <tr style=\"text-align: right;\">\n",
       "      <th></th>\n",
       "      <th>0</th>\n",
       "      <th>1</th>\n",
       "      <th>2</th>\n",
       "      <th>3</th>\n",
       "      <th>4</th>\n",
       "      <th>5</th>\n",
       "      <th>6</th>\n",
       "      <th>7</th>\n",
       "      <th>8</th>\n",
       "      <th>9</th>\n",
       "      <th>...</th>\n",
       "      <th>490</th>\n",
       "      <th>491</th>\n",
       "      <th>492</th>\n",
       "      <th>493</th>\n",
       "      <th>494</th>\n",
       "      <th>495</th>\n",
       "      <th>496</th>\n",
       "      <th>497</th>\n",
       "      <th>498</th>\n",
       "      <th>499</th>\n",
       "    </tr>\n",
       "  </thead>\n",
       "  <tbody>\n",
       "    <tr>\n",
       "      <th>0</th>\n",
       "      <td>1.000000</td>\n",
       "      <td>1.000000</td>\n",
       "      <td>1.000000</td>\n",
       "      <td>1.000000</td>\n",
       "      <td>1.000000</td>\n",
       "      <td>1.000000</td>\n",
       "      <td>1.000000</td>\n",
       "      <td>1.000000</td>\n",
       "      <td>1.000000</td>\n",
       "      <td>1.000000</td>\n",
       "      <td>...</td>\n",
       "      <td>1.000000</td>\n",
       "      <td>1.000000</td>\n",
       "      <td>1.000000</td>\n",
       "      <td>1.000000</td>\n",
       "      <td>1.000000</td>\n",
       "      <td>1.000000</td>\n",
       "      <td>1.000000</td>\n",
       "      <td>1.000000</td>\n",
       "      <td>1.000000</td>\n",
       "      <td>1.000000</td>\n",
       "    </tr>\n",
       "    <tr>\n",
       "      <th>1</th>\n",
       "      <td>1.009690</td>\n",
       "      <td>1.003862</td>\n",
       "      <td>0.983732</td>\n",
       "      <td>0.990725</td>\n",
       "      <td>0.994588</td>\n",
       "      <td>0.998991</td>\n",
       "      <td>1.014682</td>\n",
       "      <td>1.012997</td>\n",
       "      <td>0.998731</td>\n",
       "      <td>0.986882</td>\n",
       "      <td>...</td>\n",
       "      <td>1.000893</td>\n",
       "      <td>0.998747</td>\n",
       "      <td>0.993832</td>\n",
       "      <td>1.000742</td>\n",
       "      <td>1.008935</td>\n",
       "      <td>0.995838</td>\n",
       "      <td>1.008599</td>\n",
       "      <td>0.999711</td>\n",
       "      <td>1.009724</td>\n",
       "      <td>1.003334</td>\n",
       "    </tr>\n",
       "    <tr>\n",
       "      <th>2</th>\n",
       "      <td>0.998239</td>\n",
       "      <td>0.998239</td>\n",
       "      <td>0.983016</td>\n",
       "      <td>0.993416</td>\n",
       "      <td>0.997647</td>\n",
       "      <td>0.998754</td>\n",
       "      <td>1.023983</td>\n",
       "      <td>1.014471</td>\n",
       "      <td>1.005621</td>\n",
       "      <td>0.981752</td>\n",
       "      <td>...</td>\n",
       "      <td>0.990762</td>\n",
       "      <td>0.997817</td>\n",
       "      <td>0.978008</td>\n",
       "      <td>0.999296</td>\n",
       "      <td>1.013363</td>\n",
       "      <td>1.000462</td>\n",
       "      <td>1.010888</td>\n",
       "      <td>1.005579</td>\n",
       "      <td>1.008492</td>\n",
       "      <td>0.988289</td>\n",
       "    </tr>\n",
       "    <tr>\n",
       "      <th>3</th>\n",
       "      <td>0.994062</td>\n",
       "      <td>0.995123</td>\n",
       "      <td>0.992072</td>\n",
       "      <td>0.996614</td>\n",
       "      <td>0.988075</td>\n",
       "      <td>1.000219</td>\n",
       "      <td>1.023238</td>\n",
       "      <td>1.014934</td>\n",
       "      <td>0.997747</td>\n",
       "      <td>0.970273</td>\n",
       "      <td>...</td>\n",
       "      <td>0.985770</td>\n",
       "      <td>0.996830</td>\n",
       "      <td>0.983148</td>\n",
       "      <td>0.999701</td>\n",
       "      <td>1.014050</td>\n",
       "      <td>0.997268</td>\n",
       "      <td>1.008095</td>\n",
       "      <td>1.007222</td>\n",
       "      <td>1.019829</td>\n",
       "      <td>0.994954</td>\n",
       "    </tr>\n",
       "    <tr>\n",
       "      <th>4</th>\n",
       "      <td>1.005921</td>\n",
       "      <td>0.988576</td>\n",
       "      <td>0.994478</td>\n",
       "      <td>1.006764</td>\n",
       "      <td>0.974599</td>\n",
       "      <td>1.013879</td>\n",
       "      <td>1.023525</td>\n",
       "      <td>1.011999</td>\n",
       "      <td>0.997597</td>\n",
       "      <td>0.970409</td>\n",
       "      <td>...</td>\n",
       "      <td>0.979331</td>\n",
       "      <td>0.994135</td>\n",
       "      <td>0.982841</td>\n",
       "      <td>1.015955</td>\n",
       "      <td>1.029050</td>\n",
       "      <td>0.994163</td>\n",
       "      <td>1.003388</td>\n",
       "      <td>1.012993</td>\n",
       "      <td>1.018173</td>\n",
       "      <td>0.998332</td>\n",
       "    </tr>\n",
       "    <tr>\n",
       "      <th>...</th>\n",
       "      <td>...</td>\n",
       "      <td>...</td>\n",
       "      <td>...</td>\n",
       "      <td>...</td>\n",
       "      <td>...</td>\n",
       "      <td>...</td>\n",
       "      <td>...</td>\n",
       "      <td>...</td>\n",
       "      <td>...</td>\n",
       "      <td>...</td>\n",
       "      <td>...</td>\n",
       "      <td>...</td>\n",
       "      <td>...</td>\n",
       "      <td>...</td>\n",
       "      <td>...</td>\n",
       "      <td>...</td>\n",
       "      <td>...</td>\n",
       "      <td>...</td>\n",
       "      <td>...</td>\n",
       "      <td>...</td>\n",
       "      <td>...</td>\n",
       "    </tr>\n",
       "    <tr>\n",
       "      <th>7556</th>\n",
       "      <td>7.247137</td>\n",
       "      <td>18.734565</td>\n",
       "      <td>43.802463</td>\n",
       "      <td>44.091229</td>\n",
       "      <td>35.037838</td>\n",
       "      <td>3.111002</td>\n",
       "      <td>24.130925</td>\n",
       "      <td>12.363085</td>\n",
       "      <td>21.619367</td>\n",
       "      <td>13.633281</td>\n",
       "      <td>...</td>\n",
       "      <td>6.171408</td>\n",
       "      <td>21.545911</td>\n",
       "      <td>24.858389</td>\n",
       "      <td>20.023677</td>\n",
       "      <td>27.973529</td>\n",
       "      <td>12.944619</td>\n",
       "      <td>13.282838</td>\n",
       "      <td>47.867195</td>\n",
       "      <td>3.367169</td>\n",
       "      <td>20.412276</td>\n",
       "    </tr>\n",
       "    <tr>\n",
       "      <th>7557</th>\n",
       "      <td>7.205835</td>\n",
       "      <td>18.741002</td>\n",
       "      <td>43.931986</td>\n",
       "      <td>43.587225</td>\n",
       "      <td>35.015243</td>\n",
       "      <td>3.083896</td>\n",
       "      <td>24.024428</td>\n",
       "      <td>12.562911</td>\n",
       "      <td>21.600510</td>\n",
       "      <td>13.662332</td>\n",
       "      <td>...</td>\n",
       "      <td>6.199290</td>\n",
       "      <td>21.491345</td>\n",
       "      <td>24.759280</td>\n",
       "      <td>19.980540</td>\n",
       "      <td>27.756395</td>\n",
       "      <td>13.185498</td>\n",
       "      <td>13.288518</td>\n",
       "      <td>46.965280</td>\n",
       "      <td>3.396126</td>\n",
       "      <td>20.361258</td>\n",
       "    </tr>\n",
       "    <tr>\n",
       "      <th>7558</th>\n",
       "      <td>7.187877</td>\n",
       "      <td>18.658227</td>\n",
       "      <td>44.341865</td>\n",
       "      <td>43.452427</td>\n",
       "      <td>34.704970</td>\n",
       "      <td>3.047252</td>\n",
       "      <td>24.005916</td>\n",
       "      <td>12.415089</td>\n",
       "      <td>21.288627</td>\n",
       "      <td>13.594078</td>\n",
       "      <td>...</td>\n",
       "      <td>6.157272</td>\n",
       "      <td>21.516374</td>\n",
       "      <td>25.009978</td>\n",
       "      <td>19.812189</td>\n",
       "      <td>27.869294</td>\n",
       "      <td>13.074659</td>\n",
       "      <td>13.204053</td>\n",
       "      <td>47.209365</td>\n",
       "      <td>3.386272</td>\n",
       "      <td>20.376566</td>\n",
       "    </tr>\n",
       "    <tr>\n",
       "      <th>7559</th>\n",
       "      <td>7.131678</td>\n",
       "      <td>18.944929</td>\n",
       "      <td>44.372707</td>\n",
       "      <td>43.471170</td>\n",
       "      <td>34.226420</td>\n",
       "      <td>3.045365</td>\n",
       "      <td>24.186323</td>\n",
       "      <td>12.535344</td>\n",
       "      <td>21.491481</td>\n",
       "      <td>13.606228</td>\n",
       "      <td>...</td>\n",
       "      <td>6.186288</td>\n",
       "      <td>21.878630</td>\n",
       "      <td>25.062879</td>\n",
       "      <td>20.041833</td>\n",
       "      <td>28.144758</td>\n",
       "      <td>12.933336</td>\n",
       "      <td>13.164100</td>\n",
       "      <td>47.552014</td>\n",
       "      <td>3.357380</td>\n",
       "      <td>20.721969</td>\n",
       "    </tr>\n",
       "    <tr>\n",
       "      <th>7560</th>\n",
       "      <td>7.098867</td>\n",
       "      <td>18.741361</td>\n",
       "      <td>44.470181</td>\n",
       "      <td>43.758230</td>\n",
       "      <td>34.095319</td>\n",
       "      <td>3.028080</td>\n",
       "      <td>24.499411</td>\n",
       "      <td>12.521810</td>\n",
       "      <td>21.522467</td>\n",
       "      <td>13.835580</td>\n",
       "      <td>...</td>\n",
       "      <td>6.200383</td>\n",
       "      <td>21.619444</td>\n",
       "      <td>24.779495</td>\n",
       "      <td>19.894902</td>\n",
       "      <td>28.134159</td>\n",
       "      <td>12.983670</td>\n",
       "      <td>13.045147</td>\n",
       "      <td>47.278913</td>\n",
       "      <td>3.340406</td>\n",
       "      <td>20.529005</td>\n",
       "    </tr>\n",
       "  </tbody>\n",
       "</table>\n",
       "<p>7561 rows × 500 columns</p>\n",
       "</div>"
      ],
      "text/plain": [
       "           0          1          2          3          4         5    \\\n",
       "0     1.000000   1.000000   1.000000   1.000000   1.000000  1.000000   \n",
       "1     1.009690   1.003862   0.983732   0.990725   0.994588  0.998991   \n",
       "2     0.998239   0.998239   0.983016   0.993416   0.997647  0.998754   \n",
       "3     0.994062   0.995123   0.992072   0.996614   0.988075  1.000219   \n",
       "4     1.005921   0.988576   0.994478   1.006764   0.974599  1.013879   \n",
       "...        ...        ...        ...        ...        ...       ...   \n",
       "7556  7.247137  18.734565  43.802463  44.091229  35.037838  3.111002   \n",
       "7557  7.205835  18.741002  43.931986  43.587225  35.015243  3.083896   \n",
       "7558  7.187877  18.658227  44.341865  43.452427  34.704970  3.047252   \n",
       "7559  7.131678  18.944929  44.372707  43.471170  34.226420  3.045365   \n",
       "7560  7.098867  18.741361  44.470181  43.758230  34.095319  3.028080   \n",
       "\n",
       "            6          7          8          9    ...       490        491  \\\n",
       "0      1.000000   1.000000   1.000000   1.000000  ...  1.000000   1.000000   \n",
       "1      1.014682   1.012997   0.998731   0.986882  ...  1.000893   0.998747   \n",
       "2      1.023983   1.014471   1.005621   0.981752  ...  0.990762   0.997817   \n",
       "3      1.023238   1.014934   0.997747   0.970273  ...  0.985770   0.996830   \n",
       "4      1.023525   1.011999   0.997597   0.970409  ...  0.979331   0.994135   \n",
       "...         ...        ...        ...        ...  ...       ...        ...   \n",
       "7556  24.130925  12.363085  21.619367  13.633281  ...  6.171408  21.545911   \n",
       "7557  24.024428  12.562911  21.600510  13.662332  ...  6.199290  21.491345   \n",
       "7558  24.005916  12.415089  21.288627  13.594078  ...  6.157272  21.516374   \n",
       "7559  24.186323  12.535344  21.491481  13.606228  ...  6.186288  21.878630   \n",
       "7560  24.499411  12.521810  21.522467  13.835580  ...  6.200383  21.619444   \n",
       "\n",
       "            492        493        494        495        496        497  \\\n",
       "0      1.000000   1.000000   1.000000   1.000000   1.000000   1.000000   \n",
       "1      0.993832   1.000742   1.008935   0.995838   1.008599   0.999711   \n",
       "2      0.978008   0.999296   1.013363   1.000462   1.010888   1.005579   \n",
       "3      0.983148   0.999701   1.014050   0.997268   1.008095   1.007222   \n",
       "4      0.982841   1.015955   1.029050   0.994163   1.003388   1.012993   \n",
       "...         ...        ...        ...        ...        ...        ...   \n",
       "7556  24.858389  20.023677  27.973529  12.944619  13.282838  47.867195   \n",
       "7557  24.759280  19.980540  27.756395  13.185498  13.288518  46.965280   \n",
       "7558  25.009978  19.812189  27.869294  13.074659  13.204053  47.209365   \n",
       "7559  25.062879  20.041833  28.144758  12.933336  13.164100  47.552014   \n",
       "7560  24.779495  19.894902  28.134159  12.983670  13.045147  47.278913   \n",
       "\n",
       "           498        499  \n",
       "0     1.000000   1.000000  \n",
       "1     1.009724   1.003334  \n",
       "2     1.008492   0.988289  \n",
       "3     1.019829   0.994954  \n",
       "4     1.018173   0.998332  \n",
       "...        ...        ...  \n",
       "7556  3.367169  20.412276  \n",
       "7557  3.396126  20.361258  \n",
       "7558  3.386272  20.376566  \n",
       "7559  3.357380  20.721969  \n",
       "7560  3.340406  20.529005  \n",
       "\n",
       "[7561 rows x 500 columns]"
      ]
     },
     "execution_count": 20,
     "metadata": {},
     "output_type": "execute_result"
    }
   ],
   "source": [
    "# Running a Monte Carlo simulation to forecast 30 years cumulative returns\n",
    "MC_30year.calc_cumulative_return()"
   ]
  },
  {
   "cell_type": "code",
   "execution_count": 21,
   "metadata": {},
   "outputs": [
    {
     "data": {
      "image/png": "[encoded data removed]",
      "text/plain": [
       "<Figure size 432x288 with 1 Axes>"
      ]
     },
     "metadata": {
      "needs_background": "light"
     },
     "output_type": "display_data"
    }
   ],
   "source": [
    "# Plot simulation outcomes\n",
    "line_plot = MC_30year.plot_simulation()"
   ]
  },
  {
   "cell_type": "code",
   "execution_count": 22,
   "metadata": {},
   "outputs": [
    {
     "data": {
      "image/png": "[encoded data removed]",
      "text/plain": [
       "<Figure size 432x288 with 1 Axes>"
      ]
     },
     "metadata": {
      "needs_background": "light"
     },
     "output_type": "display_data"
    }
   ],
   "source": [
    "# Plot probability distribution and confidence intervals\n",
    "ist_plot = MC_30year.plot_distribution()"
   ]
  },
  {
   "cell_type": "markdown",
   "metadata": {},
   "source": [
    "### Retirement Analysis"
   ]
  },
  {
   "cell_type": "code",
   "execution_count": 24,
   "metadata": {},
   "outputs": [
    {
     "name": "stdout",
     "output_type": "stream",
     "text": [
      "count           500.000000\n",
      "mean             24.098705\n",
      "std              20.596172\n",
      "min               2.586131\n",
      "25%              11.534493\n",
      "50%              18.381609\n",
      "75%              29.060097\n",
      "max             182.681216\n",
      "95% CI Lower      4.723826\n",
      "95% CI Upper     81.864214\n",
      "Name: 7560, dtype: float64\n"
     ]
    }
   ],
   "source": [
    "# Fetch summary statistics from the Monte Carlo simulation results\n",
    "mc_tbl= MC_30year.summarize_cumulative_return()\n",
    "\n",
    "\n",
    "# Print summary statistics\n",
    "print(mc_tbl)"
   ]
  },
  {
   "cell_type": "markdown",
   "metadata": {},
   "source": [
    "### Calculate the expected portfolio return at the `95%` lower and upper confidence intervals based on a `$20,000` initial investment."
   ]
  },
  {
   "cell_type": "code",
   "execution_count": 27,
   "metadata": {},
   "outputs": [
    {
     "name": "stdout",
     "output_type": "stream",
     "text": [
      "There is a 95% chance that an initial investment of $20000 in the portfolio over the next 30 years will end within in the range of $94476.52 and $1637284.27\n"
     ]
    }
   ],
   "source": [
    "# Set initial investment\n",
    "initial_investment = 20000\n",
    "\n",
    "# Use the lower and upper `95%` confidence intervals to calculate the range of the possible outcomes of our $20,000\n",
    "ci_lower = round(mc_tbl[8]*20000,2)\n",
    "ci_upper = round(mc_tbl[9]*20000,2)\n",
    "\n",
    "\n",
    "# Print results\n",
    "print(f\"There is a 95% chance that an initial investment of ${initial_investment} in the portfolio\"\n",
    "      f\" over the next 30 years will end within in the range of\"\n",
    "      f\" ${ci_lower} and ${ci_upper}\")"
   ]
  },
  {
   "cell_type": "markdown",
   "metadata": {},
   "source": [
    "### Calculate the expected portfolio return at the `95%` lower and upper confidence intervals based on a `50%` increase in the initial investment."
   ]
  },
  {
   "cell_type": "code",
   "execution_count": 28,
   "metadata": {},
   "outputs": [
    {
     "name": "stdout",
     "output_type": "stream",
     "text": [
      "There is a 95% chance that an initial investment of $30000.0 in the portfolio over the next 30 years will end within in the range of $94476.52 and $1637284.27\n"
     ]
    }
   ],
   "source": [
    "# Set initial investment\n",
    "initial_investment = 20000 * 1.5\n",
    "\n",
    "# Use the lower and upper `95%` confidence intervals to calculate the range of the possible outcomes of our $30,000\n",
    "ci_lower = round(mc_tbl[8]*20000,2)\n",
    "ci_upper = round(mc_tbl[9]*20000,2)\n",
    "\n",
    "\n",
    "# Print results\n",
    "print(f\"There is a 95% chance that an initial investment of ${initial_investment} in the portfolio\"\n",
    "      f\" over the next 30 years will end within in the range of\"\n",
    "      f\" ${ci_lower} and ${ci_upper}\")"
   ]
  },
  {
   "cell_type": "markdown",
   "metadata": {},
   "source": [
    "## Optional Challenge - Early Retirement\n",
    "\n",
    "\n",
    "### Five Years Retirement Option"
   ]
  },
  {
   "cell_type": "code",
   "execution_count": null,
   "metadata": {},
   "outputs": [],
   "source": [
    "# Configuring a Monte Carlo simulation to forecast 5 years cumulative returns\n",
    "# YOUR CODE HERE!"
   ]
  },
  {
   "cell_type": "code",
   "execution_count": null,
   "metadata": {},
   "outputs": [],
   "source": [
    "# Running a Monte Carlo simulation to forecast 5 years cumulative returns\n",
    "# YOUR CODE HERE!"
   ]
  },
  {
   "cell_type": "code",
   "execution_count": null,
   "metadata": {},
   "outputs": [],
   "source": [
    "# Plot simulation outcomes\n",
    "# YOUR CODE HERE!"
   ]
  },
  {
   "cell_type": "code",
   "execution_count": null,
   "metadata": {},
   "outputs": [],
   "source": [
    "# Plot probability distribution and confidence intervals\n",
    "# YOUR CODE HERE!"
   ]
  },
  {
   "cell_type": "code",
   "execution_count": null,
   "metadata": {},
   "outputs": [],
   "source": [
    "# Fetch summary statistics from the Monte Carlo simulation results\n",
    "# YOUR CODE HERE!\n",
    "\n",
    "# Print summary statistics\n",
    "# YOUR CODE HERE!"
   ]
  },
  {
   "cell_type": "code",
   "execution_count": null,
   "metadata": {},
   "outputs": [],
   "source": [
    "# Set initial investment\n",
    "# YOUR CODE HERE!\n",
    "\n",
    "# Use the lower and upper `95%` confidence intervals to calculate the range of the possible outcomes of our $60,000\n",
    "# YOUR CODE HERE!\n",
    "\n",
    "# Print results\n",
    "print(f\"There is a 95% chance that an initial investment of ${initial_investment} in the portfolio\"\n",
    "      f\" over the next 5 years will end within in the range of\"\n",
    "      f\" ${ci_lower_five} and ${ci_upper_five}\")"
   ]
  },
  {
   "cell_type": "markdown",
   "metadata": {},
   "source": [
    "### Ten Years Retirement Option"
   ]
  },
  {
   "cell_type": "code",
   "execution_count": null,
   "metadata": {},
   "outputs": [],
   "source": [
    "# Configuring a Monte Carlo simulation to forecast 10 years cumulative returns\n",
    "# YOUR CODE HERE!"
   ]
  },
  {
   "cell_type": "code",
   "execution_count": null,
   "metadata": {},
   "outputs": [],
   "source": [
    "# Running a Monte Carlo simulation to forecast 10 years cumulative returns\n",
    "# YOUR CODE HERE!"
   ]
  },
  {
   "cell_type": "code",
   "execution_count": null,
   "metadata": {},
   "outputs": [],
   "source": [
    "# Plot simulation outcomes\n",
    "# YOUR CODE HERE!"
   ]
  },
  {
   "cell_type": "code",
   "execution_count": null,
   "metadata": {},
   "outputs": [],
   "source": [
    "# Plot probability distribution and confidence intervals\n",
    "# YOUR CODE HERE!"
   ]
  },
  {
   "cell_type": "code",
   "execution_count": null,
   "metadata": {},
   "outputs": [],
   "source": [
    "# Fetch summary statistics from the Monte Carlo simulation results\n",
    "# YOUR CODE HERE!\n",
    "\n",
    "# Print summary statistics\n",
    "# YOUR CODE HERE!"
   ]
  },
  {
   "cell_type": "code",
   "execution_count": null,
   "metadata": {},
   "outputs": [],
   "source": [
    "# Set initial investment\n",
    "# YOUR CODE HERE!\n",
    "\n",
    "# Use the lower and upper `95%` confidence intervals to calculate the range of the possible outcomes of our $60,000\n",
    "# YOUR CODE HERE!\n",
    "\n",
    "# Print results\n",
    "print(f\"There is a 95% chance that an initial investment of ${initial_investment} in the portfolio\"\n",
    "      f\" over the next 10 years will end within in the range of\"\n",
    "      f\" ${ci_lower_ten} and ${ci_upper_ten}\")"
   ]
  },
  {
   "cell_type": "code",
   "execution_count": null,
   "metadata": {},
   "outputs": [],
   "source": []
  }
 ],
 "metadata": {
  "kernelspec": {
   "display_name": "Python 3 (ipykernel)",
   "language": "python",
   "name": "python3"
  },
  "language_info": {
   "codemirror_mode": {
    "name": "ipython",
    "version": 3
   },
   "file_extension": ".py",
   "mimetype": "text/x-python",
   "name": "python",
   "nbconvert_exporter": "python",
   "pygments_lexer": "ipython3",
   "version": "3.8.8"
  },
  "nteract": {
   "version": "0.28.0"
  }
 },
 "nbformat": 4,
 "nbformat_minor": 4
}
